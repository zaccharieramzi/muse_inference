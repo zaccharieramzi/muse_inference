{
 "cells": [
  {
   "cell_type": "markdown",
   "id": "69865ce6-25b3-4783-8bb7-670d0702b1aa",
   "metadata": {},
   "source": [
    "# Init"
   ]
  },
  {
   "cell_type": "code",
   "execution_count": 1,
   "id": "270f5dd2-57fa-4cc0-b8bf-217f09acdc99",
   "metadata": {
    "collapsed": false,
    "jupyter": {
     "outputs_hidden": false
    }
   },
   "outputs": [],
   "source": [
    "import os\n",
    "os.environ[\"XLA_FLAGS\"] = '--xla_force_host_platform_device_count=32'"
   ]
  },
  {
   "cell_type": "code",
   "execution_count": 2,
   "id": "d5f25cae-4fde-4661-b00d-7b6c9fdfe33d",
   "metadata": {},
   "outputs": [
    {
     "name": "stdout",
     "output_type": "stream",
     "text": [
      "%pylab is deprecated, use %matplotlib inline and import the required libraries.\n",
      "Populating the interactive namespace from numpy and matplotlib\n"
     ]
    }
   ],
   "source": [
    "%load_ext autoreload\n",
    "%autoreload 2\n",
    "%pylab inline"
   ]
  },
  {
   "cell_type": "code",
   "execution_count": 3,
   "id": "610a0d76-2cb7-422f-81e1-3a16388a89a0",
   "metadata": {},
   "outputs": [
    {
     "name": "stderr",
     "output_type": "stream",
     "text": [
      "/home/zramzi/workspace/muse_inference/venv/lib/python3.9/site-packages/tqdm/auto.py:22: TqdmWarning: IProgress not found. Please update jupyter and ipywidgets. See https://ipywidgets.readthedocs.io/en/stable/user_install.html\n",
      "  from .autonotebook import tqdm as notebook_tqdm\n"
     ]
    }
   ],
   "source": [
    "import argparse\n",
    "import os\n",
    "import time\n",
    "\n",
    "import jax\n",
    "import jax.numpy as jnp\n",
    "import jax.random as jnr\n",
    "import matplotlib\n",
    "import matplotlib.pyplot as plt\n",
    "import numpy as np\n",
    "import numpyro\n",
    "import numpyro.distributions as dist\n",
    "from jax import vmap\n",
    "from jax.scipy.optimize import minimize\n",
    "from numpyro import handlers\n",
    "from numpyro.diagnostics import effective_sample_size\n",
    "from numpyro.handlers import block, condition, seed, trace\n",
    "from numpyro.infer import MCMC, NUTS\n",
    "from numpyro.infer.util import log_density, log_likelihood\n",
    "\n",
    "from muse_inference.jax import JaxMuseProblem, MuseResult, ScoreAndMAP\n",
    "\n",
    "# the non-linearity we use in our neural network\n",
    "def nonlin(x):\n",
    "    return jnp.tanh(x)"
   ]
  },
  {
   "cell_type": "code",
   "execution_count": 4,
   "id": "97d933a8-fb26-43ed-bbed-056def9917c6",
   "metadata": {},
   "outputs": [],
   "source": [
    "np.set_printoptions(precision=3, suppress=True)"
   ]
  },
  {
   "cell_type": "code",
   "execution_count": 5,
   "id": "610275ba-98ce-4a49-b530-3f1b690131dd",
   "metadata": {},
   "outputs": [],
   "source": [
    "jax.config.update('jax_enable_x64', True)\n",
    "# jax.config.update('jax_platform_name', 'gpu')\n",
    "jax.config.update('jax_platform_name', 'cpu')"
   ]
  },
  {
   "cell_type": "code",
   "execution_count": 6,
   "id": "fa004f37-4142-432d-a47a-3a55c048280d",
   "metadata": {},
   "outputs": [],
   "source": [
    "ncalls = 0\n",
    "\n",
    "def register_call():\n",
    "    global ncalls\n",
    "    ncalls += 1\n",
    "\n",
    "def count_calls(f):\n",
    "    global ncalls\n",
    "    ncalls = 0\n",
    "    ans = f()\n",
    "    return ncalls, ans"
   ]
  },
  {
   "cell_type": "code",
   "execution_count": 7,
   "id": "7ab8066e-a65a-44f0-a125-4219bc1b880b",
   "metadata": {},
   "outputs": [],
   "source": [
    "factor_speedup = {}\n",
    "chains = {}\n",
    "results = {}"
   ]
  },
  {
   "cell_type": "markdown",
   "id": "ddc9af34-b40c-446b-85b7-9207ff944740",
   "metadata": {
    "tags": []
   },
   "source": [
    "# Bayesian Neural Network"
   ]
  },
  {
   "cell_type": "markdown",
   "id": "ec7686a7-b161-4c88-92bf-10fee0166604",
   "metadata": {},
   "source": [
    "Slightly modified version of https://num.pyro.ai/en/stable/examples/bnn.html"
   ]
  },
  {
   "cell_type": "markdown",
   "id": "6add86d4-f357-493e-b384-7debca1a277f",
   "metadata": {},
   "source": [
    "## Model"
   ]
  },
  {
   "cell_type": "code",
   "execution_count": 8,
   "id": "507d2ee7-9f2b-4dc5-a828-7fc7141e4105",
   "metadata": {
    "collapsed": false,
    "jupyter": {
     "outputs_hidden": false
    }
   },
   "outputs": [],
   "source": [
    "# a two-layer bayesian neural network with computational flow\n",
    "# given by D_X => D_H => D_H => D_Y where D_H is the number of\n",
    "# hidden units. (note we indicate tensor dimensions in the comments)\n",
    "def model(X, D_H, D_Y=1):\n",
    "    \n",
    "    jax.debug.callback(register_call)\n",
    "    \n",
    "    σw = numpyro.sample(\"σw\", dist.LogNormal(), sample_shape=(3,))\n",
    "    \n",
    "    N, D_X = X.shape\n",
    "\n",
    "    # sample first layer (we put unit normal priors on all weights)\n",
    "    w1 = numpyro.sample(\"w1\", dist.Normal(jnp.zeros((D_X, D_H)), σw[0] * jnp.ones((D_X, D_H))))\n",
    "    assert w1.shape == (D_X, D_H)\n",
    "    z1 = nonlin(jnp.matmul(X, w1))  # <= first layer of activations\n",
    "    assert z1.shape == (N, D_H)\n",
    "\n",
    "    # sample second layer\n",
    "    w2 = numpyro.sample(\"w2\", dist.Normal(jnp.zeros((D_H, D_H)), σw[1] * jnp.ones((D_H, D_H))))\n",
    "    assert w2.shape == (D_H, D_H)\n",
    "    z2 = nonlin(jnp.matmul(z1, w2))  # <= second layer of activations\n",
    "    assert z2.shape == (N, D_H)\n",
    "\n",
    "    # sample final layer of weights and neural network output\n",
    "    w3 = numpyro.sample(\"w3\", dist.Normal(jnp.zeros((D_H, D_Y)), σw[2] * jnp.ones((D_H, D_Y))))\n",
    "    assert w3.shape == (D_H, D_Y)\n",
    "    z3 = jnp.matmul(z2, w3)  # <= output of the neural network\n",
    "    assert z3.shape == (N, D_Y)\n",
    "\n",
    "    # we put a prior on the observation noise\n",
    "    prec_obs = numpyro.sample(\"prec_obs\", dist.Gamma(3.0, 1.0))\n",
    "    sigma_obs = 1.0 / jnp.sqrt(prec_obs)\n",
    "\n",
    "    # observe data\n",
    "    with numpyro.plate(\"data\", N):\n",
    "        # note we use to_event(1) because each observation has shape (1,)\n",
    "        Y = numpyro.sample(\"Y\", dist.Normal(z3, sigma_obs).to_event(1))\n",
    "        \n",
    "    return Y, (w1, w2, w3), (prec_obs, σw)"
   ]
  },
  {
   "cell_type": "code",
   "execution_count": 9,
   "id": "5f6d5dcd-dad4-4c86-a3a9-503e5aab41eb",
   "metadata": {
    "tags": []
   },
   "outputs": [],
   "source": [
    "N = 200\n",
    "# N = 20  # for testing\n",
    "D_X = 3\n",
    "D_H = 5\n",
    "sigma_obs = 0.02\n",
    "N_test = 500\n",
    "# N_test = 50  # for testing"
   ]
  },
  {
   "cell_type": "code",
   "execution_count": 10,
   "id": "dffccf4e-4c74-4ae5-972c-f307516325a8",
   "metadata": {
    "tags": []
   },
   "outputs": [],
   "source": [
    "X = jnp.linspace(-1, 1, N)\n",
    "X = jnp.power(X[:, np.newaxis], jnp.arange(D_X))\n",
    "X_test = jnp.linspace(-1.3, 1.3, N_test)\n",
    "X_test = jnp.power(X_test[:, np.newaxis], jnp.arange(D_X))"
   ]
  },
  {
   "cell_type": "code",
   "execution_count": 11,
   "id": "7ab9d4e5-8905-4648-b5cb-e228e7fe7ad1",
   "metadata": {},
   "outputs": [],
   "source": [
    "D_Y = 1  # create 1d outputs\n",
    "np.random.seed(0)\n",
    "W = 0.5 * np.random.randn(D_X)\n",
    "Y = jnp.dot(X, W) + 0.5 * jnp.power(0.5 + X[:, 1], 2.0) * jnp.sin(4.0 * X[:, 1])\n",
    "Y += sigma_obs * np.random.randn(N)\n",
    "Y = Y[:, np.newaxis]\n",
    "Y -= jnp.mean(Y)\n",
    "Y /= jnp.std(Y)"
   ]
  },
  {
   "cell_type": "code",
   "execution_count": 12,
   "id": "8f0cd192-f1f6-451e-8934-407c775bd84c",
   "metadata": {},
   "outputs": [],
   "source": [
    "# with seed(rng_seed=0):\n",
    "#     Y, (w1, w2, w3), (prec_obs, σw) = model(X, D_H)"
   ]
  },
  {
   "cell_type": "markdown",
   "id": "3ae6760b-e05d-44fb-9d6c-3943855b5583",
   "metadata": {},
   "source": [
    "## NUTS"
   ]
  },
  {
   "cell_type": "code",
   "execution_count": null,
   "id": "f4f37a7b-5dfe-497d-8916-c6e3342c5572",
   "metadata": {
    "tags": []
   },
   "outputs": [],
   "source": [
    "%%time\n",
    "mcmc = MCMC(\n",
    "    NUTS(condition(model, dict(Y=Y))),\n",
    "    num_warmup = 100,\n",
    "    num_samples = 500,\n",
    "    num_chains = 32,\n",
    "    progress_bar = False,\n",
    ")\n",
    "ncalls_chain, _ = count_calls(lambda: mcmc.run(jnr.PRNGKey(0), X, D_H))"
   ]
  },
  {
   "cell_type": "code",
   "execution_count": null,
   "id": "1d63ed19-ed9f-4c3e-ad9d-0a8c782ef71d",
   "metadata": {},
   "outputs": [],
   "source": [
    "chains[\"bnn\"] = chain = np.hstack([mcmc.get_samples()[\"σw\"], mcmc.get_samples()[\"prec_obs\"][:,np.newaxis]])"
   ]
  },
  {
   "cell_type": "code",
   "execution_count": null,
   "id": "8b09062f-378b-4f2f-80c1-577f582795cf",
   "metadata": {},
   "outputs": [],
   "source": [
    "ess = np.concatenate([effective_sample_size(np.array(mcmc.get_samples(True)[k])).ravel() for k in [\"σw\", \"prec_obs\"]])\n",
    "ncalls_chain_per_ess = ncalls_chain / ess\n",
    "ncalls_chain_per_ess"
   ]
  },
  {
   "cell_type": "markdown",
   "id": "a1fccebf-bfa9-4b72-9323-c28da8fd15a5",
   "metadata": {},
   "source": [
    "## MUSE"
   ]
  },
  {
   "cell_type": "code",
   "execution_count": 13,
   "id": "5d00bd23-3e38-490d-b84c-94725cffc1ae",
   "metadata": {},
   "outputs": [],
   "source": [
    "class NumpyroPPCAProblem(JaxMuseProblem):\n",
    "\n",
    "    def __init__(self, model, *args, implicit_diff=True, implicit_diff_cgtol=1e-3, use_shine=False, **kwargs):\n",
    "        super().__init__(implicit_diff=implicit_diff, implicit_diff_cgtol=implicit_diff_cgtol, use_shine=use_shine)\n",
    "        self.x = model.data[\"Y\"]\n",
    "        self.args = args\n",
    "        self.kwargs = kwargs\n",
    "        self.model_like = model.fn\n",
    "        self.model_prior = model\n",
    "        self.model_sample = model.fn\n",
    "        \n",
    "    def sample_x_z(self, key, θ):\n",
    "        (log_σw, log_prec_obs) = θ\n",
    "        (x, z, _) = seed(condition(self.model_sample, dict(σw=jnp.exp(log_σw), prec_obs=jnp.exp(log_prec_obs))), key)(*self.args, **self.kwargs)\n",
    "        return (x, z)\n",
    "\n",
    "    def logLike(self, x, z, θ):\n",
    "        (w1, w2, w3) = z\n",
    "        (log_σw, log_prec_obs) = θ\n",
    "        return log_density(self.model_like, self.args, self.kwargs, dict(Y=x, w1=w1, w2=w2, w3=w3, σw=jnp.exp(log_σw), prec_obs=jnp.exp(log_prec_obs)))[0]\n",
    "\n",
    "    def z_MAP_guess_from_truth(self, x, z, _):\n",
    "        return z\n",
    "    \n",
    "    def logPrior(self, θ):\n",
    "        (log_σw, log_prec_obs) = θ\n",
    "        with seed(rng_seed=0): # dummy seed\n",
    "            model_trace = trace(condition(self.model_prior, dict(σw=jnp.exp(log_σw), prec_obs=jnp.exp(log_prec_obs)))).get_trace(*self.args, **self.kwargs)\n",
    "        # jacdet = jnp.sum((log_σw)) + (log_prec_obs)\n",
    "        return jnp.sum(jnp.array([jnp.sum(model_trace[k][\"fn\"].log_prob(model_trace[k][\"value\"])) for k in [\"σw\", \"prec_obs\"]])) #+ jacdet"
   ]
  },
  {
   "cell_type": "code",
   "execution_count": 14,
   "id": "f76af111-0392-445e-864f-3921e5ea3543",
   "metadata": {},
   "outputs": [
    {
     "name": "stderr",
     "output_type": "stream",
     "text": [
      "/home/zramzi/workspace/muse_inference/venv/lib/python3.9/site-packages/jax/_src/api_util.py:222: SyntaxWarning: Jitted function has invalid argnames {'self'} in static_argnames. Function does not take these args.This warning will be replaced by an error after 2022-08-20 at the earliest.\n",
      "  warnings.warn(f\"Jitted function has invalid argnames {invalid_argnames} \"\n"
     ]
    }
   ],
   "source": [
    "(prob_shine, prob_id, prob_fd) = [\n",
    "    NumpyroPPCAProblem(condition(model, dict(Y=Y)), X, D_H, implicit_diff=implicit_diff, implicit_diff_cgtol=1e-5, use_shine=use_shine)\n",
    "    for implicit_diff, use_shine in [\n",
    "        (True, True),  # SHINE\n",
    "        (True, False),  # ID\n",
    "        (False, False),  # FD\n",
    "    ]\n",
    "]"
   ]
  },
  {
   "cell_type": "code",
   "execution_count": 15,
   "id": "5bb8a613-f2f5-40d3-9990-402a230b8f7d",
   "metadata": {
    "tags": []
   },
   "outputs": [],
   "source": [
    "def solve(prob, nsims=200):\n",
    "    z_tol = 1e-1\n",
    "    result = prob.solve(\n",
    "        θ_start = (jnp.array([0.,0,0]), 1.), \n",
    "        α = 1, \n",
    "        z0 = \"prior\",\n",
    "        rng = jnr.PRNGKey(0), \n",
    "        z_tol = z_tol,\n",
    "        θ_rtol = 0,\n",
    "        maxsteps = 15,\n",
    "        nsims = nsims,\n",
    "        progress = True,\n",
    "        get_covariance = False,\n",
    "        save_MAP_history = False,\n",
    "    )\n",
    "    prob.get_J(result=result, progress=True, nsims=nsims, z_tol=z_tol);\n",
    "    prob.get_H(result=result, progress=True, nsims=nsims, z_tol=z_tol, use_median=True)\n",
    "    return result"
   ]
  },
  {
   "cell_type": "code",
   "execution_count": 18,
   "id": "0ff05b64-db2c-4406-bba5-d6a5e6d186a8",
   "metadata": {},
   "outputs": [
    {
     "name": "stderr",
     "output_type": "stream",
     "text": [
      "MUSE: 100%|██████████| 3015/3015 [01:02<00:00, 48.42it/s] \n"
     ]
    },
    {
     "name": "stdout",
     "output_type": "stream",
     "text": [
      "N iter for LBFGS: [412, 207, 185, 118, 328, 448, 310, 117, 107, 94, 260, 298, 133, 500, 299, 484, 132, 500, 243, 224, 382, 273, 500, 192, 125, 500, 165, 402, 179, 82, 200, 392, 169, 114, 172, 165, 193, 414, 495, 242, 500, 500, 368, 500, 500, 359, 464, 204, 288, 97, 298, 426, 83, 272, 387, 500, 300, 242, 37, 500, 424, 247, 348, 500, 167, 192, 276, 230, 159, 412, 59, 92, 297, 70, 120, 130, 500, 197, 62, 377, 500, 222, 209, 500, 275, 119, 500, 222, 347, 261, 125, 126, 500, 40, 242, 150, 500, 426, 471, 67, 98, 454, 500, 169, 500, 318, 500, 467, 147, 174, 181, 45, 108, 336, 68, 500, 173, 125, 354, 207, 362, 158, 46, 131, 106, 89, 122, 287, 306, 185, 329, 51, 225, 192, 331, 193, 180, 227, 226, 361, 213, 298, 489, 129, 181, 196, 286, 328, 159, 115, 306, 110, 203, 241, 50, 248, 355, 291, 308, 230, 500, 186, 377, 500, 129, 500, 500, 47, 429, 311, 500, 500, 259, 286, 500, 200, 177, 251, 125, 500, 96, 127, 106, 208, 85, 381, 210, 137, 153, 201, 79, 500, 317, 129, 325, 194, 339, 84, 185, 83]\n"
     ]
    },
    {
     "name": "stderr",
     "output_type": "stream",
     "text": [
      "get_H: 100%|██████████| 200/200 [00:00<00:00, 2387.55it/s]\n",
      "MUSE: 100%|██████████| 3015/3015 [00:59<00:00, 50.56it/s] \n"
     ]
    },
    {
     "ename": "AttributeError",
     "evalue": "'NoneType' object has no attribute 'iter_num'",
     "output_type": "error",
     "traceback": [
      "\u001b[0;31m---------------------------------------------------------------------------\u001b[0m",
      "\u001b[0;31mAttributeError\u001b[0m                            Traceback (most recent call last)",
      "Cell \u001b[0;32mIn [18], line 1\u001b[0m\n\u001b[0;32m----> 1\u001b[0m (ncalls_muse_shine, result_shine), (ncalls_muse_id, result_id), (ncalls_muse_fd, result_fd) \u001b[38;5;241m=\u001b[39m [count_calls(\u001b[38;5;28;01mlambda\u001b[39;00m: solve(prob)) \u001b[38;5;28;01mfor\u001b[39;00m prob \u001b[38;5;129;01min\u001b[39;00m [prob_shine, prob_id, prob_fd]]\n\u001b[1;32m      2\u001b[0m results[\u001b[38;5;124m\"\u001b[39m\u001b[38;5;124mbnn\u001b[39m\u001b[38;5;124m\"\u001b[39m] \u001b[38;5;241m=\u001b[39m result_id\n",
      "Cell \u001b[0;32mIn [18], line 1\u001b[0m, in \u001b[0;36m<listcomp>\u001b[0;34m(.0)\u001b[0m\n\u001b[0;32m----> 1\u001b[0m (ncalls_muse_shine, result_shine), (ncalls_muse_id, result_id), (ncalls_muse_fd, result_fd) \u001b[38;5;241m=\u001b[39m [\u001b[43mcount_calls\u001b[49m\u001b[43m(\u001b[49m\u001b[38;5;28;43;01mlambda\u001b[39;49;00m\u001b[43m:\u001b[49m\u001b[43m \u001b[49m\u001b[43msolve\u001b[49m\u001b[43m(\u001b[49m\u001b[43mprob\u001b[49m\u001b[43m)\u001b[49m\u001b[43m)\u001b[49m \u001b[38;5;28;01mfor\u001b[39;00m prob \u001b[38;5;129;01min\u001b[39;00m [prob_shine, prob_id, prob_fd]]\n\u001b[1;32m      2\u001b[0m results[\u001b[38;5;124m\"\u001b[39m\u001b[38;5;124mbnn\u001b[39m\u001b[38;5;124m\"\u001b[39m] \u001b[38;5;241m=\u001b[39m result_id\n",
      "Cell \u001b[0;32mIn [6], line 10\u001b[0m, in \u001b[0;36mcount_calls\u001b[0;34m(f)\u001b[0m\n\u001b[1;32m      8\u001b[0m \u001b[38;5;28;01mglobal\u001b[39;00m ncalls\n\u001b[1;32m      9\u001b[0m ncalls \u001b[38;5;241m=\u001b[39m \u001b[38;5;241m0\u001b[39m\n\u001b[0;32m---> 10\u001b[0m ans \u001b[38;5;241m=\u001b[39m \u001b[43mf\u001b[49m\u001b[43m(\u001b[49m\u001b[43m)\u001b[49m\n\u001b[1;32m     11\u001b[0m \u001b[38;5;28;01mreturn\u001b[39;00m ncalls, ans\n",
      "Cell \u001b[0;32mIn [18], line 1\u001b[0m, in \u001b[0;36m<lambda>\u001b[0;34m()\u001b[0m\n\u001b[0;32m----> 1\u001b[0m (ncalls_muse_shine, result_shine), (ncalls_muse_id, result_id), (ncalls_muse_fd, result_fd) \u001b[38;5;241m=\u001b[39m [count_calls(\u001b[38;5;28;01mlambda\u001b[39;00m: \u001b[43msolve\u001b[49m\u001b[43m(\u001b[49m\u001b[43mprob\u001b[49m\u001b[43m)\u001b[49m) \u001b[38;5;28;01mfor\u001b[39;00m prob \u001b[38;5;129;01min\u001b[39;00m [prob_shine, prob_id, prob_fd]]\n\u001b[1;32m      2\u001b[0m results[\u001b[38;5;124m\"\u001b[39m\u001b[38;5;124mbnn\u001b[39m\u001b[38;5;124m\"\u001b[39m] \u001b[38;5;241m=\u001b[39m result_id\n",
      "Cell \u001b[0;32mIn [15], line 17\u001b[0m, in \u001b[0;36msolve\u001b[0;34m(prob, nsims)\u001b[0m\n\u001b[1;32m      3\u001b[0m result \u001b[38;5;241m=\u001b[39m prob\u001b[38;5;241m.\u001b[39msolve(\n\u001b[1;32m      4\u001b[0m     θ_start \u001b[38;5;241m=\u001b[39m (jnp\u001b[38;5;241m.\u001b[39marray([\u001b[38;5;241m0.\u001b[39m,\u001b[38;5;241m0\u001b[39m,\u001b[38;5;241m0\u001b[39m]), \u001b[38;5;241m1.\u001b[39m), \n\u001b[1;32m      5\u001b[0m     α \u001b[38;5;241m=\u001b[39m \u001b[38;5;241m1\u001b[39m, \n\u001b[0;32m   (...)\u001b[0m\n\u001b[1;32m     14\u001b[0m     save_MAP_history \u001b[38;5;241m=\u001b[39m \u001b[38;5;28;01mFalse\u001b[39;00m,\n\u001b[1;32m     15\u001b[0m )\n\u001b[1;32m     16\u001b[0m prob\u001b[38;5;241m.\u001b[39mget_J(result\u001b[38;5;241m=\u001b[39mresult, progress\u001b[38;5;241m=\u001b[39m\u001b[38;5;28;01mTrue\u001b[39;00m, nsims\u001b[38;5;241m=\u001b[39mnsims, z_tol\u001b[38;5;241m=\u001b[39mz_tol);\n\u001b[0;32m---> 17\u001b[0m \u001b[43mprob\u001b[49m\u001b[38;5;241;43m.\u001b[39;49m\u001b[43mget_H\u001b[49m\u001b[43m(\u001b[49m\u001b[43mresult\u001b[49m\u001b[38;5;241;43m=\u001b[39;49m\u001b[43mresult\u001b[49m\u001b[43m,\u001b[49m\u001b[43m \u001b[49m\u001b[43mprogress\u001b[49m\u001b[38;5;241;43m=\u001b[39;49m\u001b[38;5;28;43;01mTrue\u001b[39;49;00m\u001b[43m,\u001b[49m\u001b[43m \u001b[49m\u001b[43mnsims\u001b[49m\u001b[38;5;241;43m=\u001b[39;49m\u001b[43mnsims\u001b[49m\u001b[43m,\u001b[49m\u001b[43m \u001b[49m\u001b[43mz_tol\u001b[49m\u001b[38;5;241;43m=\u001b[39;49m\u001b[43mz_tol\u001b[49m\u001b[43m,\u001b[49m\u001b[43m \u001b[49m\u001b[43muse_median\u001b[49m\u001b[38;5;241;43m=\u001b[39;49m\u001b[38;5;28;43;01mTrue\u001b[39;49;00m\u001b[43m)\u001b[49m\n\u001b[1;32m     18\u001b[0m \u001b[38;5;28;01mreturn\u001b[39;00m result\n",
      "File \u001b[0;32m~/workspace/muse_inference/muse_inference/muse_inference.py:511\u001b[0m, in \u001b[0;36mMuseProblem.get_H\u001b[0;34m(self, result, θ, step, method, θ_tol, z_tol, rng, nsims, pmap, progress, skip_errors, use_median)\u001b[0m\n\u001b[1;32m    509\u001b[0m z_MAP_sims \u001b[39m=\u001b[39m (result\u001b[39m.\u001b[39mz_MAP_sims \u001b[39m+\u001b[39m [\u001b[39mNone\u001b[39;00m]\u001b[39m*\u001b[39m(\u001b[39mmax\u001b[39m(\u001b[39m0\u001b[39m, nsims \u001b[39m-\u001b[39m \u001b[39mlen\u001b[39m(result\u001b[39m.\u001b[39mz_MAP_sims))))[\u001b[39m-\u001b[39mnsims_remaining:]\n\u001b[1;32m    510\u001b[0m lbfgs_history_sims \u001b[39m=\u001b[39m (result\u001b[39m.\u001b[39mlbfgs_history_sims \u001b[39m+\u001b[39m [\u001b[39mNone\u001b[39;00m]\u001b[39m*\u001b[39m(\u001b[39mmax\u001b[39m(\u001b[39m0\u001b[39m, nsims \u001b[39m-\u001b[39m \u001b[39mlen\u001b[39m(result\u001b[39m.\u001b[39mlbfgs_history_sims))))[\u001b[39m-\u001b[39mnsims_remaining:]\n\u001b[0;32m--> 511\u001b[0m \u001b[39mprint\u001b[39m(\u001b[39m'\u001b[39m\u001b[39mN iter for LBFGS:\u001b[39m\u001b[39m'\u001b[39m, [state\u001b[39m.\u001b[39miter_num\u001b[39m.\u001b[39mitem() \u001b[39mfor\u001b[39;00m state \u001b[39min\u001b[39;00m lbfgs_history_sims])\n\u001b[1;32m    512\u001b[0m _get_H_i \u001b[39m=\u001b[39m partial(\u001b[39mself\u001b[39m\u001b[39m.\u001b[39m_get_H_i, θ\u001b[39m=\u001b[39mθ, method\u001b[39m=\u001b[39mmethod, θ_tol\u001b[39m=\u001b[39mθ_tol, z_tol\u001b[39m=\u001b[39mz_tol, step\u001b[39m=\u001b[39mstep, skip_errors\u001b[39m=\u001b[39mskip_errors)\n\u001b[1;32m    513\u001b[0m result\u001b[39m.\u001b[39mHs\u001b[39m.\u001b[39mextend(H \u001b[39mfor\u001b[39;00m H \u001b[39min\u001b[39;00m pbar(\u001b[39mmap\u001b[39m(\u001b[39mlambda\u001b[39;00m args: _get_H_i(\u001b[39m*\u001b[39margs[\u001b[39m0\u001b[39m:\u001b[39m2\u001b[39m], lbfgs_state\u001b[39m=\u001b[39margs[\u001b[39m2\u001b[39m]), \u001b[39mzip\u001b[39m(rngs, z_MAP_sims, lbfgs_history_sims)) )\u001b[39mif\u001b[39;00m H \u001b[39mis\u001b[39;00m \u001b[39mnot\u001b[39;00m \u001b[39mNone\u001b[39;00m)\n",
      "File \u001b[0;32m~/workspace/muse_inference/muse_inference/muse_inference.py:511\u001b[0m, in \u001b[0;36m<listcomp>\u001b[0;34m(.0)\u001b[0m\n\u001b[1;32m    509\u001b[0m z_MAP_sims \u001b[39m=\u001b[39m (result\u001b[39m.\u001b[39mz_MAP_sims \u001b[39m+\u001b[39m [\u001b[39mNone\u001b[39;00m]\u001b[39m*\u001b[39m(\u001b[39mmax\u001b[39m(\u001b[39m0\u001b[39m, nsims \u001b[39m-\u001b[39m \u001b[39mlen\u001b[39m(result\u001b[39m.\u001b[39mz_MAP_sims))))[\u001b[39m-\u001b[39mnsims_remaining:]\n\u001b[1;32m    510\u001b[0m lbfgs_history_sims \u001b[39m=\u001b[39m (result\u001b[39m.\u001b[39mlbfgs_history_sims \u001b[39m+\u001b[39m [\u001b[39mNone\u001b[39;00m]\u001b[39m*\u001b[39m(\u001b[39mmax\u001b[39m(\u001b[39m0\u001b[39m, nsims \u001b[39m-\u001b[39m \u001b[39mlen\u001b[39m(result\u001b[39m.\u001b[39mlbfgs_history_sims))))[\u001b[39m-\u001b[39mnsims_remaining:]\n\u001b[0;32m--> 511\u001b[0m \u001b[39mprint\u001b[39m(\u001b[39m'\u001b[39m\u001b[39mN iter for LBFGS:\u001b[39m\u001b[39m'\u001b[39m, [state\u001b[39m.\u001b[39;49miter_num\u001b[39m.\u001b[39mitem() \u001b[39mfor\u001b[39;00m state \u001b[39min\u001b[39;00m lbfgs_history_sims])\n\u001b[1;32m    512\u001b[0m _get_H_i \u001b[39m=\u001b[39m partial(\u001b[39mself\u001b[39m\u001b[39m.\u001b[39m_get_H_i, θ\u001b[39m=\u001b[39mθ, method\u001b[39m=\u001b[39mmethod, θ_tol\u001b[39m=\u001b[39mθ_tol, z_tol\u001b[39m=\u001b[39mz_tol, step\u001b[39m=\u001b[39mstep, skip_errors\u001b[39m=\u001b[39mskip_errors)\n\u001b[1;32m    513\u001b[0m result\u001b[39m.\u001b[39mHs\u001b[39m.\u001b[39mextend(H \u001b[39mfor\u001b[39;00m H \u001b[39min\u001b[39;00m pbar(\u001b[39mmap\u001b[39m(\u001b[39mlambda\u001b[39;00m args: _get_H_i(\u001b[39m*\u001b[39margs[\u001b[39m0\u001b[39m:\u001b[39m2\u001b[39m], lbfgs_state\u001b[39m=\u001b[39margs[\u001b[39m2\u001b[39m]), \u001b[39mzip\u001b[39m(rngs, z_MAP_sims, lbfgs_history_sims)) )\u001b[39mif\u001b[39;00m H \u001b[39mis\u001b[39;00m \u001b[39mnot\u001b[39;00m \u001b[39mNone\u001b[39;00m)\n",
      "\u001b[0;31mAttributeError\u001b[0m: 'NoneType' object has no attribute 'iter_num'"
     ]
    }
   ],
   "source": [
    "(ncalls_muse_shine, result_shine), (ncalls_muse_id, result_id), (ncalls_muse_fd, result_fd) = [count_calls(lambda: solve(prob)) for prob in [prob_shine, prob_id, prob_fd]]\n",
    "results[\"bnn\"] = result_id"
   ]
  },
  {
   "cell_type": "code",
   "execution_count": null,
   "id": "eb23693f-a619-4486-a455-f9cd6c000773",
   "metadata": {},
   "outputs": [],
   "source": [
    "ncalls_muse_per_ess_shine = ncalls_muse_shine / len(result_shine.s_MAP_sims)\n",
    "ncalls_muse_per_ess_id = ncalls_muse_id / len(result_id.s_MAP_sims)\n",
    "ncalls_muse_per_ess_fd = ncalls_muse_fd / len(result_fd.s_MAP_sims)"
   ]
  },
  {
   "cell_type": "markdown",
   "id": "916c77ac-d67f-42f2-b5da-241640213dd2",
   "metadata": {
    "tags": []
   },
   "source": [
    "## Sanity check"
   ]
  },
  {
   "cell_type": "code",
   "execution_count": null,
   "id": "6719c145-7348-4b72-a1d4-63cbef8aaa30",
   "metadata": {},
   "outputs": [],
   "source": [
    "plot([prob_id.ravel_θ(h[\"θ\"]) for h in result_id.history]);"
   ]
  },
  {
   "cell_type": "code",
   "execution_count": null,
   "id": "6719c145-7348-4b72-a1d4-63cbef8aaa30",
   "metadata": {},
   "outputs": [],
   "source": [
    "plot([prob_shine.ravel_θ(h[\"θ\"]) for h in result_shine.history]);"
   ]
  },
  {
   "cell_type": "code",
   "execution_count": null,
   "id": "44d9d408-4cab-4b09-9e58-30942cd3f670",
   "metadata": {},
   "outputs": [],
   "source": [
    "result_id.H"
   ]
  },
  {
   "cell_type": "code",
   "execution_count": null,
   "id": "332aab31-bdf7-4be2-8fba-f1215ec127d1",
   "metadata": {},
   "outputs": [],
   "source": [
    "chain = np.hstack([mcmc.get_samples()[\"σw\"], mcmc.get_samples()[\"prec_obs\"][:,np.newaxis]])"
   ]
  },
  {
   "cell_type": "code",
   "execution_count": null,
   "id": "87023eae-3f41-4193-ba6b-6153a36fdec4",
   "metadata": {},
   "outputs": [],
   "source": [
    "plot(log(chain));"
   ]
  },
  {
   "cell_type": "code",
   "execution_count": null,
   "id": "f9eb300e-1d38-4fe1-a1bf-8e0e31f56c7b",
   "metadata": {},
   "outputs": [],
   "source": [
    "# helper function for prediction\n",
    "def predict(model, rng_key, samples, X, D_H):\n",
    "    model = handlers.substitute(handlers.seed(model, rng_key), samples)\n",
    "    # note that Y will be sampled in the model because we pass Y=None here\n",
    "    model_trace = handlers.trace(model).get_trace(X=X, D_H=D_H)\n",
    "    return model_trace[\"Y\"][\"value\"]\n",
    "\n",
    "samples = mcmc.get_samples()\n",
    "\n",
    "# predict Y_test at inputs X_test\n",
    "vmap_args = (\n",
    "    samples,\n",
    "    jnr.split(jnr.PRNGKey(0), mcmc.num_samples * mcmc.num_chains),\n",
    ")\n",
    "predictions = vmap(\n",
    "    lambda samples, rng_key: predict(model, rng_key, samples, X_test, D_H)\n",
    ")(*vmap_args)\n",
    "predictions = predictions[..., 0]\n",
    "\n",
    "# compute mean prediction and confidence interval around median\n",
    "mean_prediction = jnp.mean(predictions, axis=0)\n",
    "percentiles = np.percentile(predictions, [5.0, 95.0], axis=0)\n",
    "\n",
    "# make plots\n",
    "fig, ax = plt.subplots()\n",
    "\n",
    "# plot training data\n",
    "ax.plot(X[:, 1], Y[:, 0], \"kx\")\n",
    "# plot 90% confidence level of predictions\n",
    "ax.fill_between(\n",
    "    X_test[:, 1], percentiles[0, :], percentiles[1, :], color=\"lightblue\"\n",
    ")\n",
    "# plot mean prediction\n",
    "ax.plot(X_test[:, 1], mean_prediction, \"blue\", ls=\"solid\", lw=2.0)\n",
    "ax.set(xlabel=\"X\", ylabel=\"Y\", title=\"Mean predictions with 90% CI\");"
   ]
  },
  {
   "cell_type": "markdown",
   "id": "e61f3efa-d3d8-423a-bec3-ee0f8ebb60aa",
   "metadata": {},
   "source": [
    "## Agreement"
   ]
  },
  {
   "cell_type": "code",
   "execution_count": null,
   "id": "b14206f2-3143-4195-b3ee-ae300e3a3379",
   "metadata": {},
   "outputs": [],
   "source": [
    "figure(figsize=(4,6))\n",
    "for i in range(4):\n",
    "    subplot(4, 1, i+1)\n",
    "    \n",
    "    hist(log(chain)[:,i], density=True, bins=50);\n",
    "    xlim(-8, 10)\n",
    "\n",
    "    axvline(prob_id.ravel_θ(result_id.θ)[i], c=\"C1\")\n",
    "    xs = linspace(*xlim(), 100)\n",
    "    plot(xs, exp(dist.Normal(prob_shine.ravel_θ(result_shine.θ)[i], sqrt(result_shine.Σ[i,i])).log_prob(xs)), \"C3--\")\n",
    "    plot(xs, exp(dist.Normal(prob_id.ravel_θ(result_id.θ)[i], sqrt(result_id.Σ[i,i])).log_prob(xs)), \"C1-+\")\n",
    "    plot(xs, exp(dist.Normal(prob_fd.ravel_θ(result_fd.θ)[i], sqrt(result_fd.Σ[i,i])).log_prob(xs)), \"C2--\")"
   ]
  },
  {
   "cell_type": "code",
   "execution_count": null,
   "id": "3e99d102-8fa4-4d1b-9b0b-68fdfead0acc",
   "metadata": {},
   "outputs": [],
   "source": [
    "violinplot(log(chain), showextrema=False, vert=False, widths=0.2)#, quantiles=[[0.025,0.975]]*4)\n",
    "errorbar(result_id.ravel(result_id.θ), range(1,5), xerr=sqrt(diag(result_id.Σ)), marker=\".\", capsize=5, ls=\"\", c=\"C0\")\n",
    "errorbar(result_shine.ravel(result_shine.θ), range(1,5), xerr=sqrt(diag(result_shine.Σ)), marker=\".\", capsize=5, ls=\"\", c=\"C3\")"
   ]
  },
  {
   "cell_type": "markdown",
   "id": "6f640a85-ddf9-4599-b2bf-2b9017f1cc5f",
   "metadata": {},
   "source": [
    "## Factor"
   ]
  },
  {
   "cell_type": "code",
   "execution_count": null,
   "id": "62b29211-6322-4ed3-8f74-afdc3347e9d8",
   "metadata": {},
   "outputs": [],
   "source": [
    "factor_speedup[\"bnn\"] = [np.max(ncalls_chain_per_ess / ncalls_muse_per_ess_fd), np.max(ncalls_chain_per_ess / ncalls_muse_per_ess_id), np.max(ncalls_chain_per_ess / ncalls_muse_per_ess_shine)]\n",
    "factor_speedup[\"bnn\"]"
   ]
  },
  {
   "cell_type": "markdown",
   "id": "3eb06be4-c9b5-4e21-8371-f76fe5804c99",
   "metadata": {
    "tags": []
   },
   "source": [
    "# Funnel"
   ]
  },
  {
   "cell_type": "markdown",
   "id": "c9b3e51c-291f-453d-abce-8d0c20802ff9",
   "metadata": {},
   "source": [
    "## Model"
   ]
  },
  {
   "cell_type": "code",
   "execution_count": null,
   "id": "224009f3-83eb-41cc-9a9b-f16cbf8c86ca",
   "metadata": {},
   "outputs": [],
   "source": [
    "def funnel(Nθ, Nz):\n",
    "    jax.debug.callback(register_call)\n",
    "    θ = numpyro.sample(\"θ\", dist.Normal(0, 3), sample_shape=(Nθ,))\n",
    "    z = numpyro.sample(\"z\", dist.Normal(0, jnp.exp(θ/2)), sample_shape=(Nz,))\n",
    "    x = numpyro.sample(\"x\", dist.Normal(jnp.tanh(z), 1))\n",
    "    return (x, z, θ)"
   ]
  },
  {
   "cell_type": "code",
   "execution_count": null,
   "id": "8c334858-f0ba-49d8-a6fe-6790a3fd11c8",
   "metadata": {},
   "outputs": [],
   "source": [
    "Nθ = 10\n",
    "Nz = 500"
   ]
  },
  {
   "cell_type": "code",
   "execution_count": null,
   "id": "c5e5a0db-37e9-4b3a-a5ad-b9c5fd3984e3",
   "metadata": {},
   "outputs": [],
   "source": [
    "θ = jnp.zeros(Nθ)"
   ]
  },
  {
   "cell_type": "code",
   "execution_count": null,
   "id": "67e7894a-f685-4b41-bbd9-65760f99ffda",
   "metadata": {},
   "outputs": [],
   "source": [
    "x = seed(condition(funnel, {\"θ\": θ}), jax.random.PRNGKey(0))(Nθ, Nz)[0]"
   ]
  },
  {
   "cell_type": "markdown",
   "id": "95c2a3a5-00ae-475b-ae69-09f6a3e2ac91",
   "metadata": {},
   "source": [
    "## NUTS"
   ]
  },
  {
   "cell_type": "code",
   "execution_count": null,
   "id": "ee403733-6170-4dce-8692-c685c3de4a9d",
   "metadata": {
    "tags": []
   },
   "outputs": [],
   "source": [
    "%%time\n",
    "mcmc = MCMC(NUTS(condition(funnel, {\"x\":x})), num_warmup=100, num_samples=500, num_chains=32, progress_bar=False)\n",
    "ncalls_nuts = count_calls(lambda: mcmc.run(jnr.PRNGKey(0), Nθ, Nz))[0]"
   ]
  },
  {
   "cell_type": "code",
   "execution_count": null,
   "id": "6a3760d9-5523-4317-a6f7-0315371b9457",
   "metadata": {},
   "outputs": [],
   "source": [
    "chains[\"funnel\"] = chain = mcmc.get_samples()[\"θ\"]"
   ]
  },
  {
   "cell_type": "code",
   "execution_count": null,
   "id": "d6cd7ee3-d4bb-49ff-9d94-9f68b3581ab6",
   "metadata": {},
   "outputs": [],
   "source": [
    "ess = effective_sample_size(np.array(mcmc.get_samples(True)[\"θ\"]))\n",
    "ncalls_chain_per_ess = ncalls_nuts / ess\n",
    "ncalls_chain_per_ess"
   ]
  },
  {
   "cell_type": "markdown",
   "id": "af9e667b-6505-412b-917c-73e1ac92bf1f",
   "metadata": {},
   "source": [
    "## MUSE"
   ]
  },
  {
   "cell_type": "code",
   "execution_count": null,
   "id": "6ccc9248-3ea9-4982-901b-31a9d4c1c6e7",
   "metadata": {},
   "outputs": [],
   "source": [
    "class NumpyroFunnelProblem(JaxMuseProblem):\n",
    "\n",
    "    def __init__(self, model, *args, **kwargs):\n",
    "        super().__init__(**kwargs)\n",
    "        self.args = args\n",
    "        self.x = model.data[\"x\"]\n",
    "        self.model_like = model\n",
    "        self.model_prior = model # block(model.fn, lambda site: site[\"name\"]!=\"θ\")\n",
    "        self.model_sample = model.fn\n",
    "\n",
    "\n",
    "    def sample_x_z(self, key, θ):\n",
    "        (x, z, θ) = seed(condition(self.model_sample, {\"θ\": θ}), key)(*self.args)\n",
    "        return (x, z)\n",
    "\n",
    "    def logLike(self, x, z, θ):\n",
    "        return log_density(self.model_like, self.args, {}, {\"x\": x, \"z\": z, \"θ\": θ})[0]\n",
    "\n",
    "    def logPrior(self, θ):\n",
    "        with seed(rng_seed=0): # dummy seed\n",
    "            model_trace = trace(condition(self.model_prior, {\"θ\": θ})).get_trace(*self.args)\n",
    "        return jnp.sum(model_trace[\"θ\"][\"fn\"].log_prob(model_trace[\"θ\"][\"value\"]))\n"
   ]
  },
  {
   "cell_type": "code",
   "execution_count": null,
   "id": "281f1406-d7f9-4195-9c21-1473dc38621c",
   "metadata": {},
   "outputs": [],
   "source": [
    "prob_id, prob_fd = [\n",
    "    NumpyroFunnelProblem(condition(funnel, {\"x\": x}), Nθ, Nz, implicit_diff=implicit_diff) \n",
    "    for implicit_diff in [True, False]\n",
    "];"
   ]
  },
  {
   "cell_type": "code",
   "execution_count": null,
   "id": "6dee72e2-8991-4458-9ceb-6a285b7c2f14",
   "metadata": {},
   "outputs": [],
   "source": [
    "def solve(prob):\n",
    "    z_tol = 1e-1\n",
    "    nsims = 100\n",
    "    θ_rtol = 1e-1\n",
    "    result = MuseResult()\n",
    "    prob.solve(θ_start=θ, rng=jnr.PRNGKey(4), z_tol=z_tol, nsims=nsims, θ_rtol=θ_rtol, result=result, progress=True, get_covariance=False)\n",
    "    prob.get_J(result=result, nsims=nsims, progress=True, z_tol=z_tol)\n",
    "    prob.get_H(result=result, nsims=nsims, progress=True, z_tol=z_tol)\n",
    "    result.finalize(prob)\n",
    "    return result\n",
    "    \n",
    "(ncalls_muse_id, result_id), (ncalls_muse_fd, result_fd) = [count_calls(lambda: solve(prob)) for prob in [prob_id, prob_fd]]\n",
    "results[\"funnel\"] = result_id"
   ]
  },
  {
   "cell_type": "code",
   "execution_count": null,
   "id": "9442d96a-803b-4397-a9d5-ffbd6df4f837",
   "metadata": {},
   "outputs": [],
   "source": [
    "ncalls_muse_per_ess_id = ncalls_muse_id / len(result_id.s_MAP_sims)\n",
    "ncalls_muse_per_ess_fd = ncalls_muse_fd / len(result_fd.s_MAP_sims)"
   ]
  },
  {
   "cell_type": "code",
   "execution_count": null,
   "id": "ae4c8536-0c54-4d11-b6e8-6089b7d19318",
   "metadata": {},
   "outputs": [],
   "source": [
    "figure(figsize=(4,Nθ/2))\n",
    "for i in range(Nθ):\n",
    "    subplot(10, 1, i+1)\n",
    "    axvline(θ[i], c=\"k\")\n",
    "\n",
    "    hist(mcmc.get_samples()[\"θ\"][:,i], bins=40, density=True);\n",
    "    xlim(-4, 7)\n",
    "\n",
    "    axvline(result_id.θ[i], c=\"C1\")\n",
    "    xs = linspace(*xlim(), 100)\n",
    "    plot(xs, exp(dist.Normal(result_id.θ[i], sqrt(result_id.Σ[i,i])).log_prob(xs)))\n",
    "\n",
    "    # ylim(0, 1.5)"
   ]
  },
  {
   "cell_type": "code",
   "execution_count": null,
   "id": "edd4b085-cbdd-4976-9a27-874488bf7a91",
   "metadata": {},
   "outputs": [],
   "source": [
    "violinplot(mcmc.get_samples()[\"θ\"].T, showextrema=False, vert=False)#, quantiles=[[0.16,0.84]]*Nθ)#quantiles=[[0.025,0.975]]*Nθ)\n",
    "errorbar(result_id.ravel(result_id.θ), range(1,Nθ+1), xerr=sqrt(diag(result_id.Σ)), marker=\".\", capsize=5, ls=\"\", c=\"C0\")"
   ]
  },
  {
   "cell_type": "code",
   "execution_count": null,
   "id": "ad0ea0a1-262d-476f-a88a-74f069126f9a",
   "metadata": {},
   "outputs": [],
   "source": [
    "factor_speedup[\"funnel\"] = [np.max(ncalls_chain_per_ess / ncalls_muse_per_ess_fd), np.max(ncalls_chain_per_ess / ncalls_muse_per_ess_id)]\n",
    "factor_speedup[\"funnel\"]"
   ]
  },
  {
   "cell_type": "markdown",
   "id": "15fc92bb-b9d9-47c0-a674-aadf390050c8",
   "metadata": {},
   "source": [
    "# PPCA"
   ]
  },
  {
   "cell_type": "markdown",
   "id": "389747a5-aa4d-488c-8817-30e9e3cdad68",
   "metadata": {},
   "source": [
    "## Model"
   ]
  },
  {
   "cell_type": "code",
   "execution_count": null,
   "id": "074b72dd-3fa6-4760-9772-ebfe541f8c5c",
   "metadata": {},
   "outputs": [],
   "source": [
    "N = 100\n",
    "M = 5\n",
    "D = 20"
   ]
  },
  {
   "cell_type": "code",
   "execution_count": null,
   "id": "6f128c49-21fa-40b9-bf2a-b9d3bf475672",
   "metadata": {},
   "outputs": [],
   "source": [
    "def pPCA_ARD():\n",
    "    jax.debug.callback(register_call)\n",
    "    α = numpyro.sample(\"α\", dist.InverseGamma(1.0, 1.0),           sample_shape=(D,)  )\n",
    "    z = numpyro.sample(\"z\", dist.Normal(0, 1),                     sample_shape=(D, N))\n",
    "    w = numpyro.sample(\"w\", dist.Normal(0, jnp.sqrt(α)),           sample_shape=(D,)  ).T\n",
    "    x = numpyro.sample(\"x\", dist.Normal(w @ z, 1),                 sample_shape=(M,)  )\n",
    "    return x, (z, w), α"
   ]
  },
  {
   "cell_type": "code",
   "execution_count": null,
   "id": "f0fef2f4-8f39-43b8-8c85-a607a559ce74",
   "metadata": {},
   "outputs": [],
   "source": [
    "θ = logspace(-2, 4, D, base=e)\n",
    "θ"
   ]
  },
  {
   "cell_type": "code",
   "execution_count": null,
   "id": "75e452f6-e548-491f-b29d-f8c1d6e92162",
   "metadata": {},
   "outputs": [],
   "source": [
    "with seed(rng_seed=0):\n",
    "    x, (z, w), α = condition(pPCA_ARD, {\"α\": θ, \"w\": jnp.diag(jnp.sqrt(θ))})()"
   ]
  },
  {
   "cell_type": "markdown",
   "id": "9c11e0ca-01e4-40d1-bf0e-3f57374a5804",
   "metadata": {},
   "source": [
    "## NUTS"
   ]
  },
  {
   "cell_type": "code",
   "execution_count": null,
   "id": "cb98def8-995d-4282-a7e9-bb06b6d0a24b",
   "metadata": {
    "tags": []
   },
   "outputs": [],
   "source": [
    "%%time\n",
    "mcmc = MCMC(NUTS(condition(pPCA_ARD, {\"x\":x})), num_warmup=100, num_samples=500, num_chains=32, progress_bar=False)\n",
    "ncalls_nuts = count_calls(lambda: mcmc.run(jnr.PRNGKey(0)))[0]"
   ]
  },
  {
   "cell_type": "code",
   "execution_count": null,
   "id": "3483d1b0-5c42-4d07-b14f-29b815369942",
   "metadata": {},
   "outputs": [],
   "source": [
    "chains[\"ppca\"] = mcmc.get_samples()[\"α\"]"
   ]
  },
  {
   "cell_type": "code",
   "execution_count": null,
   "id": "2017ff70-ad12-4964-a681-b29cd02cf512",
   "metadata": {},
   "outputs": [],
   "source": [
    "ess = effective_sample_size(np.array(mcmc.get_samples(True)[\"α\"]))\n",
    "ncalls_chain_per_ess = ncalls_nuts / ess\n",
    "ncalls_chain_per_ess"
   ]
  },
  {
   "cell_type": "markdown",
   "id": "4b36a38a-fe93-40d0-82bb-b287b9d6b770",
   "metadata": {},
   "source": [
    "## MUSE"
   ]
  },
  {
   "cell_type": "code",
   "execution_count": null,
   "id": "9b8414d2-5381-4c2b-8d4f-747f882b6b08",
   "metadata": {
    "tags": []
   },
   "outputs": [],
   "source": [
    "class NumpyroPPCAProblem(JaxMuseProblem):\n",
    "\n",
    "    def __init__(self, model, **kwargs):\n",
    "        super().__init__(**kwargs)\n",
    "        self.x = model.data[\"x\"]\n",
    "        self.model_like = model.fn\n",
    "        self.model_prior = model # block(model.fn, lambda site: site[\"name\"]!=\"θ\")\n",
    "        self.model_sample = model.fn\n",
    "        \n",
    "    def sample_x_z(self, key, logα):\n",
    "        (x, z_w, _) = seed(condition(self.model_sample, {\"α\": jnp.exp(logα)}), key)()\n",
    "        return (x, z_w)\n",
    "\n",
    "    def logLike(self, x, z_w, logα):\n",
    "        (z, w) = z_w\n",
    "        # model_trace = trace(condition(self.model_like, {\"α\": jnp.exp(logα), \"x\": x, \"z\": z, \"w\": w})).get_trace()\n",
    "        # return jnp.sum(jnp.array([jnp.sum(model_trace[k][\"fn\"].log_prob(model_trace[k][\"value\"])) for k in [\"w\"]]))\n",
    "        return log_density(self.model_like, (), {}, {\"x\": x, \"z\": z, \"w\": w, \"α\": jnp.exp(logα)})[0]\n",
    "\n",
    "    def z_MAP_guess_from_truth(self, x, z_w, _):\n",
    "        (z, w) = z_w\n",
    "        return z_w\n",
    "        # return (0*z, jnp.eye(w.shape[1]))\n",
    "    \n",
    "    def logPrior(self, logα):\n",
    "        with seed(rng_seed=0): # dummy seed\n",
    "            model_trace = trace(condition(self.model_prior, {\"α\": jnp.exp(logα)})).get_trace()\n",
    "        return jnp.sum(model_trace[\"α\"][\"fn\"].log_prob(model_trace[\"α\"][\"value\"])) #+ jnp.sum(logα)\n",
    "    \n",
    "#     def z_MAP_and_score(self, x, z_guess, θ, method=None, options=dict(), z_tol=None, θ_tol=None):\n",
    "\n",
    "#         if z_tol is not None:\n",
    "#             options = dict(gtol=z_tol, **options)\n",
    "#         if method is None:\n",
    "#             method = \"l-bfgs-experimental-do-not-rely-on-this\"\n",
    "\n",
    "#         # opt = jaxopt.ScipyMinimize(\n",
    "#         #     fun = lambda z_vec: -self.logLike(x, unravel(z_vec), θ),\n",
    "#         #     method = \"L-BFGS-B\",\n",
    "#         #     **options\n",
    "#         # )\n",
    "#         # soln = opt.run(ravel(z_guess))\n",
    "#         # zMAP = unravel(soln.params)\n",
    "\n",
    "#         # h = jnp.sqrt(jnp.diag(jax.hessian(lambda z_vec: -self.logLike(x, unravel(z_vec), θ))(ravel(z_guess))))\n",
    "#         h = 1\n",
    "        \n",
    "#         for i in range(1):\n",
    "#             soln = minimize(\n",
    "#                 lambda z_vec: -self.logLike(x, self.unravel_z(z_vec / h), θ), \n",
    "#                 self.ravel_z(z_guess) * h, \n",
    "#                 method = method,\n",
    "#                 options = options\n",
    "#             )\n",
    "#             z_guess = soln.x\n",
    "        \n",
    "#         zMAP = self.unravel_z(soln.x / h)\n",
    "        \n",
    "#         gradθ = self.val_gradz_gradθ_logLike(x, zMAP, θ)[2]\n",
    "\n",
    "#         return ScoreAndMAP(gradθ, gradθ, zMAP, soln)"
   ]
  },
  {
   "cell_type": "code",
   "execution_count": null,
   "id": "69b6afc4-91fe-4d56-98c6-d5eab8254719",
   "metadata": {},
   "outputs": [],
   "source": [
    "prob_id, prob_fd = [\n",
    "    NumpyroPPCAProblem(condition(pPCA_ARD, {\"x\": x}), implicit_diff=implicit_diff, implicit_diff_cgtol=1e-1)\n",
    "    for implicit_diff in [True, False]\n",
    "];"
   ]
  },
  {
   "cell_type": "code",
   "execution_count": null,
   "id": "ccf43221-7043-4b9f-a24d-14946375fa71",
   "metadata": {},
   "outputs": [],
   "source": [
    "def solve(prob):\n",
    "    z_tol = 1e-1\n",
    "    nsims = 100\n",
    "    θ_rtol = 1e-1\n",
    "    result = MuseResult()\n",
    "    \n",
    "    prob.solve(\n",
    "        result=result, θ_start=jnp.zeros(D), α=1, \n",
    "        z0 = \"prior\",\n",
    "        rng=jnr.PRNGKey(10), \n",
    "        z_tol=1e-1, θ_rtol=0,\n",
    "        maxsteps=5,\n",
    "        nsims=100,\n",
    "        progress=True, get_covariance=False,\n",
    "        save_MAP_history=False\n",
    "    )\n",
    "    \n",
    "    prob.get_J(result=result, nsims=nsims, progress=True, z_tol=z_tol)\n",
    "    prob.get_H(result=result, nsims=nsims, progress=True, z_tol=z_tol, use_median=True)\n",
    "    result.finalize(prob)\n",
    "    return result\n",
    "    \n",
    "(ncalls_muse_id, result_id), (ncalls_muse_fd, result_fd) = [count_calls(lambda: solve(prob)) for prob in [prob_id, prob_fd]]"
   ]
  },
  {
   "cell_type": "code",
   "execution_count": null,
   "id": "0633cd65-af04-40d2-bbfa-f9e746e2839e",
   "metadata": {},
   "outputs": [],
   "source": [
    "results[\"ppca\"] = result_id;"
   ]
  },
  {
   "cell_type": "code",
   "execution_count": null,
   "id": "4ef719bb-4cf3-4c30-af52-64963e5118ad",
   "metadata": {},
   "outputs": [],
   "source": [
    "ncalls_muse_per_ess_id = ncalls_muse_id / len(result_id.s_MAP_sims)\n",
    "ncalls_muse_per_ess_fd = ncalls_muse_fd / len(result_fd.s_MAP_sims)"
   ]
  },
  {
   "cell_type": "code",
   "execution_count": null,
   "id": "4d1895b9-c362-4f27-8c73-899bfa77438e",
   "metadata": {},
   "outputs": [],
   "source": [
    "factor_speedup[\"ppca\"] = [np.max(ncalls_chain_per_ess / ncalls_muse_per_ess_fd), np.max(ncalls_chain_per_ess / ncalls_muse_per_ess_id)]\n",
    "factor_speedup[\"ppca\"]"
   ]
  },
  {
   "cell_type": "code",
   "execution_count": null,
   "id": "3df3108e-ab5d-4bf9-ae60-42b51a2b4d19",
   "metadata": {},
   "outputs": [],
   "source": [
    "violinplot(log(mcmc.get_samples()[\"α\"]), showextrema=False, vert=False); \n",
    "errorbar(result_id.ravel(result_id.θ), range(1,D+1), xerr=sqrt(diag(result_id.Σ)), marker=\".\", capsize=5, ls=\"\", c=\"C0\");"
   ]
  },
  {
   "cell_type": "markdown",
   "id": "d50cb86d-2481-45de-986d-79d603addab0",
   "metadata": {},
   "source": [
    "### Check"
   ]
  },
  {
   "cell_type": "code",
   "execution_count": null,
   "id": "84957fd9-ac85-460d-bac1-3bda3ccbd0ea",
   "metadata": {},
   "outputs": [],
   "source": [
    "plot(([h[\"θ\"] for h in result_id.history]));"
   ]
  },
  {
   "cell_type": "code",
   "execution_count": null,
   "id": "3d86b342-f1cb-40a3-8ce5-bbf56224c079",
   "metadata": {},
   "outputs": [],
   "source": [
    "figure(figsize=(4,6))\n",
    "for i in range(len(α)):\n",
    "    subplot(len(α), 1, i+1)\n",
    "    # axvline(log((α)[i]), c=\"k\")\n",
    "    hist(log(mcmc.get_samples()[\"α\"])[:,i], density=True, bins=50);\n",
    "    xlim(-8, 10)\n",
    "    axvline((result_id.θ)[i], c=\"C1\")\n",
    "    xs = linspace(*xlim(), 100)\n",
    "    plot(xs, exp(dist.Normal(result_id.θ[i], sqrt(result_id.Σ[i,i])).log_prob(xs)), \"--\")\n",
    "    plot(xs, exp(dist.Normal(result_fd.θ[i], sqrt(result_fd.Σ[i,i])).log_prob(xs)), \"--\")    "
   ]
  },
  {
   "cell_type": "markdown",
   "id": "72648386-1a1e-4f27-afc5-ad070dcaac5b",
   "metadata": {},
   "source": [
    "# Plot"
   ]
  },
  {
   "cell_type": "code",
   "execution_count": null,
   "id": "5e0f3185-77b3-45c0-9235-de252feadad3",
   "metadata": {},
   "outputs": [],
   "source": [
    "fig = figure(figsize=(6,5))\n",
    "gs = GridSpec(3, 3, figure=fig, hspace=0.5)\n",
    "sca(fig.add_subplot(gs[:2, :]))\n",
    "\n",
    "dx = 0.2\n",
    "\n",
    "bar(arange(1,3) - dx, [1, 1], width=dx)\n",
    "bar(arange(1,3),      [factor_speedup[\"funnel\"][0], factor_speedup[\"bnn\"][0]], width=dx)\n",
    "bar(arange(1,3) + dx, [factor_speedup[\"funnel\"][1], factor_speedup[\"bnn\"][1]], width=dx)\n",
    "\n",
    "legend([\"HMC\", \"MUSE (FD)\", \"MUSE (ID)\"], loc=\"upper left\", frameon=True)\n",
    "\n",
    "xticks([1, 2, 3])\n",
    "gca().set_xticklabels([\"Funnel\", \"BNN\", \"PPCA\\n(right axis)\"])\n",
    "xlim(0.6, 3.4)\n",
    "\n",
    "ylabel(\"speedup relative to HMC\", fontsize=12)\n",
    "ylim(0, 410)\n",
    "axvline(2.5, c=\"k\", ls=\":\")\n",
    "\n",
    "twinx()\n",
    "ylabel(\"speedup relative to HMC\", fontsize=12)\n",
    "\n",
    "bar(3 - dx, 1, width=dx)\n",
    "bar(3,      factor_speedup[\"ppca\"][0], width=dx)\n",
    "bar(3 + dx, factor_speedup[\"ppca\"][1], width=dx)\n",
    "ylim(0,6.5)\n",
    "\n",
    "alpha = 0.5\n",
    "\n",
    "sca(fig.add_subplot(gs[2, 0]))\n",
    "parts = violinplot(chains[\"funnel\"].T, showextrema=False, vert=False, widths=0.5)\n",
    "for pc in parts['bodies']: pc.set_alpha(alpha)\n",
    "errorbar(results[\"funnel\"].ravel(results[\"funnel\"].θ), range(1,results[\"funnel\"].Σ.shape[0]+1), xerr=sqrt(diag(results[\"funnel\"].Σ)), marker=\".\", capsize=2, ls=\"\", c=\"C0\")\n",
    "yticks([])\n",
    "xlabel(r\"$\\theta$\")\n",
    "       \n",
    "sca(fig.add_subplot(gs[2, 1]))\n",
    "parts = violinplot(log(chains[\"bnn\"]), showextrema=False, vert=False, widths=0.3)\n",
    "for pc in parts['bodies']: pc.set_alpha(alpha)\n",
    "errorbar(results[\"bnn\"].ravel(results[\"bnn\"].θ), range(1,results[\"bnn\"].Σ.shape[0]+1), xerr=sqrt(diag(results[\"bnn\"].Σ)), marker=\".\", capsize=2, ls=\"\", c=\"C0\")\n",
    "yticks([])\n",
    "xlabel(r\"$\\log[\\sigma,\\tau]$\")\n",
    "\n",
    "sca(fig.add_subplot(gs[2, 2]))\n",
    "parts = violinplot(log(chains[\"ppca\"]), showextrema=False, vert=False, widths=0.8); \n",
    "for pc in parts['bodies']: pc.set_alpha(alpha)\n",
    "errorbar(results[\"ppca\"].ravel(results[\"ppca\"].θ), range(1,results[\"ppca\"].Σ.shape[0]+1), xerr=sqrt(diag(results[\"ppca\"].Σ)), marker=\".\", capsize=2, ls=\"\", c=\"C0\");\n",
    "yticks([])\n",
    "xlabel(r\"$\\log\\alpha$\")\n",
    "\n",
    "savefig(\"toyproblems.pdf\", bbox_inches=\"tight\")"
   ]
  },
  {
   "cell_type": "code",
   "execution_count": null,
   "id": "c41c688b-4e3c-4d8e-bb45-ec63824085d8",
   "metadata": {},
   "outputs": [],
   "source": [
    "factor_speedup[\"funnel\"][0], factor_speedup[\"bnn\"][0], factor_speedup[\"ppca\"][0]"
   ]
  },
  {
   "cell_type": "code",
   "execution_count": null,
   "id": "4feedfe1-c325-4508-b5da-585d6f8f37da",
   "metadata": {},
   "outputs": [],
   "source": [
    "factor_speedup[\"funnel\"][1], factor_speedup[\"bnn\"][1], factor_speedup[\"ppca\"][1]"
   ]
  }
 ],
 "metadata": {
  "kernelspec": {
   "display_name": "Python 3.9.13 ('venv': venv)",
   "language": "python",
   "name": "python3"
  },
  "language_info": {
   "codemirror_mode": {
    "name": "ipython",
    "version": 3
   },
   "file_extension": ".py",
   "mimetype": "text/x-python",
   "name": "python",
   "nbconvert_exporter": "python",
   "pygments_lexer": "ipython3",
   "version": "3.9.13"
  },
  "vscode": {
   "interpreter": {
    "hash": "e436bee31a310aa93fd165f51c1a8ba154bba708ba544d89b01316d6db3e8b84"
   }
  },
  "widgets": {
   "application/vnd.jupyter.widget-state+json": {
    "state": {},
    "version_major": 2,
    "version_minor": 0
   }
  }
 },
 "nbformat": 4,
 "nbformat_minor": 5
}
